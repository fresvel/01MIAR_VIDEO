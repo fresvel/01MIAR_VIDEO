{
 "cells": [
  {
   "cell_type": "markdown",
   "metadata": {},
   "source": [
    "\n",
    "## 01MIAR - Actividad Video Valencia Pollution\n",
    "\n",
    "## NumPy y Pandas\n",
    "\n",
    "### Objetivos:\n",
    "- Aplicar diferentes técnicas de tratamiento de estructuras numéricas con Numpy y datos estructurados con Pandas.\n",
    "\n",
    "### Instrucciones:\n",
    "- Mantener una estructura limpia, comentando código y secuenciando los apartados con el código correspondiente que resuelva la actividad.\n",
    "- Como criterio de evaluación se tendrá en cuenta el resultado, la consecución del mismo, estilo, comentarios y adecuación. Siempre será tenido en cuenta cualquier detalle técnico avanzado o no visto en clase relacionado con el tema (explicar el porqué y usabilidad).\n",
    "- No está permitido compartir los resultados ni el código en ninguno de los foros.\n",
    "- Revisar los temas así como las sesiones sobre Numpy y Pandas para aplicar dichos contenidos.\n",
    "- Proponer las respuestas en las celdas a dicho efecto en cada punto, si se necesitan más celdas añadirlas en su sitio correspondiente\n",
    "- Mostrar de manera clara la respuesta a las preguntas, mediante código\n",
    "\n",
    "### Entrega:\n",
    "- Este mismo notebook con las respuetas\n",
    "\n",
    "### Evaluación\n",
    "- Esta actividad corresponde con el 10% de la nota final de la asignatura.\n",
    "\n",
    "### Fecha Realización\n",
    "- Convocatoria 1 - 29/11/2024 00:00 - 29/11/2024 23:59"
   ]
  },
  {
   "cell_type": "markdown",
   "metadata": {},
   "source": [
    "#### Descripción\n",
    "El conjunto de datos \"valencia_pollution_dataset.csv\" (fichero disponible adjunto a la actividad) proviene de una descarga de datos del servicio web del ayuntamiento de la ciudad de Valencia de datos abiertos.\n",
    "\n",
    "Los datos recabados de este servicio web son de mediciones cada hora de una serie de estaciones de contaminación atmosférica.\n",
    "\n",
    "https://valencia.opendatasoft.com/explore/dataset/estacions-contaminacio-atmosferiques-estaciones-contaminacion-atmosfericas/information/\n",
    "\n",
    "Cada estación realiza una serie de mediciones acerca de la calidad del aire, y de ciertas sustancias que se consideran importantes para analizar la contaminación atmosférica en la ciudad.\n",
    "\n",
    "#### Columnas para trabajar:\n",
    "- objectid: id de la estación\n",
    "- nombre: nombre de la estación\n",
    "- dirección: dirección de la estación\n",
    "- tipozona: tipo de la zona, urbana o sub urbana\n",
    "- parámetros: parámetroe medidos\n",
    "- mediciones: fichero de mediciones\n",
    "- tipoemision: tráfico o fondo\n",
    "- so2: niveles de dióxido de azufre\n",
    "- no2: niveles de dióxido de nitrogeno\n",
    "- o3: niveles de ozono\n",
    "- co: niveles de monóxido de carbono\n",
    "- pm10: niveles de partículas en suspensión hasta 10um\n",
    "- pm25: niveles de partículas en suspensión hasta 2,5um\n",
    "- fecha_carga: timestamp de la actualización de los datos\n",
    "- calidad_ambiental: estimación de la calidad del aire\n",
    "- fiwareid: \n",
    "- geo_shape: coordenadas geográficas\n",
    "- geo_point_2d: latitud-longitud"
   ]
  },
  {
   "cell_type": "code",
   "execution_count": 73,
   "metadata": {
    "tags": []
   },
   "outputs": [],
   "source": [
    "# Your imports here...\n",
    "import pandas as pd\n",
    "import seaborn as sns\n",
    "import matplotlib.pyplot as plt"
   ]
  },
  {
   "cell_type": "markdown",
   "metadata": {},
   "source": [
    "## 01\n",
    "Carga de datos de csv (valencia_pollution_dataset.csv) en un DataFrame"
   ]
  },
  {
   "cell_type": "code",
   "execution_count": 2,
   "metadata": {},
   "outputs": [
    {
     "data": {
      "text/html": [
       "<div>\n",
       "<style scoped>\n",
       "    .dataframe tbody tr th:only-of-type {\n",
       "        vertical-align: middle;\n",
       "    }\n",
       "\n",
       "    .dataframe tbody tr th {\n",
       "        vertical-align: top;\n",
       "    }\n",
       "\n",
       "    .dataframe thead th {\n",
       "        text-align: right;\n",
       "    }\n",
       "</style>\n",
       "<table border=\"1\" class=\"dataframe\">\n",
       "  <thead>\n",
       "    <tr style=\"text-align: right;\">\n",
       "      <th></th>\n",
       "      <th>objectid</th>\n",
       "      <th>nombre</th>\n",
       "      <th>direccion</th>\n",
       "      <th>tipozona</th>\n",
       "      <th>parametros</th>\n",
       "      <th>mediciones</th>\n",
       "      <th>so2</th>\n",
       "      <th>no2</th>\n",
       "      <th>o3</th>\n",
       "      <th>co</th>\n",
       "      <th>pm10</th>\n",
       "      <th>pm25</th>\n",
       "      <th>tipoemision</th>\n",
       "      <th>fecha_carga</th>\n",
       "      <th>calidad_ambiental</th>\n",
       "      <th>fiwareid</th>\n",
       "      <th>geo_shape</th>\n",
       "      <th>geo_point_2d</th>\n",
       "    </tr>\n",
       "  </thead>\n",
       "  <tbody>\n",
       "    <tr>\n",
       "      <th>248</th>\n",
       "      <td>28</td>\n",
       "      <td>Viveros</td>\n",
       "      <td>Jardines de Viveros</td>\n",
       "      <td>Urbana</td>\n",
       "      <td>NaN</td>\n",
       "      <td>NaN</td>\n",
       "      <td>0.0</td>\n",
       "      <td>5</td>\n",
       "      <td>89.0</td>\n",
       "      <td>NaN</td>\n",
       "      <td>NaN</td>\n",
       "      <td>NaN</td>\n",
       "      <td>Fondo</td>\n",
       "      <td>2025-05-25T21:20:10+00:00</td>\n",
       "      <td>Razonablemente Buena</td>\n",
       "      <td>NaN</td>\n",
       "      <td>NaN</td>\n",
       "      <td>NaN</td>\n",
       "    </tr>\n",
       "    <tr>\n",
       "      <th>17</th>\n",
       "      <td>430</td>\n",
       "      <td>Dr. Lluch</td>\n",
       "      <td>Calle Dr. Lluch, 48</td>\n",
       "      <td>Urbana</td>\n",
       "      <td>NaN</td>\n",
       "      <td>NaN</td>\n",
       "      <td>NaN</td>\n",
       "      <td>4</td>\n",
       "      <td>NaN</td>\n",
       "      <td>NaN</td>\n",
       "      <td>24.0</td>\n",
       "      <td>9.0</td>\n",
       "      <td>Tráfico</td>\n",
       "      <td>2025-05-24T23:20:11+00:00</td>\n",
       "      <td>Razonablemente Buena</td>\n",
       "      <td>NaN</td>\n",
       "      <td>NaN</td>\n",
       "      <td>NaN</td>\n",
       "    </tr>\n",
       "    <tr>\n",
       "      <th>310</th>\n",
       "      <td>27</td>\n",
       "      <td>Universidad Politécnica</td>\n",
       "      <td>Campus de la U. Politécnica. Avda. Tarongers</td>\n",
       "      <td>Suburbana</td>\n",
       "      <td>NaN</td>\n",
       "      <td>NaN</td>\n",
       "      <td>2.0</td>\n",
       "      <td>3</td>\n",
       "      <td>74.0</td>\n",
       "      <td>NaN</td>\n",
       "      <td>18.0</td>\n",
       "      <td>13.0</td>\n",
       "      <td>Fondo</td>\n",
       "      <td>2025-05-26T03:20:09+00:00</td>\n",
       "      <td>Razonablemente Buena</td>\n",
       "      <td>NaN</td>\n",
       "      <td>NaN</td>\n",
       "      <td>NaN</td>\n",
       "    </tr>\n",
       "    <tr>\n",
       "      <th>79</th>\n",
       "      <td>23</td>\n",
       "      <td>Francia</td>\n",
       "      <td>Avda. de Francia, 60</td>\n",
       "      <td>Urbana</td>\n",
       "      <td>NaN</td>\n",
       "      <td>NaN</td>\n",
       "      <td>0.0</td>\n",
       "      <td>3</td>\n",
       "      <td>76.0</td>\n",
       "      <td>0.1</td>\n",
       "      <td>7.0</td>\n",
       "      <td>5.0</td>\n",
       "      <td>Tráfico</td>\n",
       "      <td>2025-05-25T06:20:06+00:00</td>\n",
       "      <td>Razonablemente Buena</td>\n",
       "      <td>NaN</td>\n",
       "      <td>NaN</td>\n",
       "      <td>NaN</td>\n",
       "    </tr>\n",
       "    <tr>\n",
       "      <th>34</th>\n",
       "      <td>27</td>\n",
       "      <td>Universidad Politécnica</td>\n",
       "      <td>Campus de la U. Politécnica. Avda. Tarongers</td>\n",
       "      <td>Suburbana</td>\n",
       "      <td>NaN</td>\n",
       "      <td>NaN</td>\n",
       "      <td>2.0</td>\n",
       "      <td>3</td>\n",
       "      <td>83.0</td>\n",
       "      <td>NaN</td>\n",
       "      <td>18.0</td>\n",
       "      <td>14.0</td>\n",
       "      <td>Fondo</td>\n",
       "      <td>2025-05-25T01:20:08+00:00</td>\n",
       "      <td>Razonablemente Buena</td>\n",
       "      <td>NaN</td>\n",
       "      <td>NaN</td>\n",
       "      <td>NaN</td>\n",
       "    </tr>\n",
       "  </tbody>\n",
       "</table>\n",
       "</div>"
      ],
      "text/plain": [
       "     objectid                   nombre  \\\n",
       "248        28                  Viveros   \n",
       "17        430                Dr. Lluch   \n",
       "310        27  Universidad Politécnica   \n",
       "79         23                  Francia   \n",
       "34         27  Universidad Politécnica   \n",
       "\n",
       "                                        direccion   tipozona  parametros  \\\n",
       "248                           Jardines de Viveros     Urbana         NaN   \n",
       "17                            Calle Dr. Lluch, 48     Urbana         NaN   \n",
       "310  Campus de la U. Politécnica. Avda. Tarongers  Suburbana         NaN   \n",
       "79                           Avda. de Francia, 60     Urbana         NaN   \n",
       "34   Campus de la U. Politécnica. Avda. Tarongers  Suburbana         NaN   \n",
       "\n",
       "     mediciones  so2  no2    o3   co  pm10  pm25 tipoemision  \\\n",
       "248         NaN  0.0    5  89.0  NaN   NaN   NaN       Fondo   \n",
       "17          NaN  NaN    4   NaN  NaN  24.0   9.0     Tráfico   \n",
       "310         NaN  2.0    3  74.0  NaN  18.0  13.0       Fondo   \n",
       "79          NaN  0.0    3  76.0  0.1   7.0   5.0     Tráfico   \n",
       "34          NaN  2.0    3  83.0  NaN  18.0  14.0       Fondo   \n",
       "\n",
       "                   fecha_carga     calidad_ambiental  fiwareid  geo_shape  \\\n",
       "248  2025-05-25T21:20:10+00:00  Razonablemente Buena       NaN        NaN   \n",
       "17   2025-05-24T23:20:11+00:00  Razonablemente Buena       NaN        NaN   \n",
       "310  2025-05-26T03:20:09+00:00  Razonablemente Buena       NaN        NaN   \n",
       "79   2025-05-25T06:20:06+00:00  Razonablemente Buena       NaN        NaN   \n",
       "34   2025-05-25T01:20:08+00:00  Razonablemente Buena       NaN        NaN   \n",
       "\n",
       "     geo_point_2d  \n",
       "248           NaN  \n",
       "17            NaN  \n",
       "310           NaN  \n",
       "79            NaN  \n",
       "34            NaN  "
      ]
     },
     "metadata": {},
     "output_type": "display_data"
    },
    {
     "name": "stdout",
     "output_type": "stream",
     "text": [
      "<class 'pandas.core.frame.DataFrame'>\n",
      "RangeIndex: 396 entries, 0 to 395\n",
      "Data columns (total 18 columns):\n",
      " #   Column             Non-Null Count  Dtype  \n",
      "---  ------             --------------  -----  \n",
      " 0   objectid           396 non-null    int64  \n",
      " 1   nombre             396 non-null    object \n",
      " 2   direccion          396 non-null    object \n",
      " 3   tipozona           396 non-null    object \n",
      " 4   parametros         0 non-null      float64\n",
      " 5   mediciones         0 non-null      float64\n",
      " 6   so2                216 non-null    float64\n",
      " 7   no2                396 non-null    int64  \n",
      " 8   o3                 216 non-null    float64\n",
      " 9   co                 108 non-null    float64\n",
      " 10  pm10               288 non-null    float64\n",
      " 11  pm25               288 non-null    float64\n",
      " 12  tipoemision        396 non-null    object \n",
      " 13  fecha_carga        396 non-null    object \n",
      " 14  calidad_ambiental  396 non-null    object \n",
      " 15  fiwareid           0 non-null      float64\n",
      " 16  geo_shape          0 non-null      float64\n",
      " 17  geo_point_2d       0 non-null      float64\n",
      "dtypes: float64(10), int64(2), object(6)\n",
      "memory usage: 55.8+ KB\n"
     ]
    }
   ],
   "source": [
    "# Your solution here...\n",
    "csv_path=\"valencia_pollution_dataset.csv\"\n",
    "dataframe=pd.read_csv(csv_path, sep=\",\")\n",
    "display(dataframe.sample(5))\n",
    "dataframe.info()"
   ]
  },
  {
   "cell_type": "markdown",
   "metadata": {},
   "source": [
    "## 02\n",
    " - **¿Cuál es el rango temporal del dataset?**\n",
    "\n",
    "Para tener un mejor resultado se normaliza las zonas horarias del dataset, colocando todas en un mismo uso horario. Esto se realiza con la función `normalize_timezone`\n",
    "\n",
    "De manera posterior se calcula el máximo y mínimo de las fechas normalizadas para obtener la fecha de inicio y fin de las capturas realizadas. Para esto se usa la función get_rango temporal.\n"
   ]
  },
  {
   "cell_type": "code",
   "execution_count": 68,
   "metadata": {
    "scrolled": true
   },
   "outputs": [
    {
     "name": "stdout",
     "output_type": "stream",
     "text": [
      "2025-05-26 05:20:13-05:00\n",
      "El rango temporal del dataset es: \n",
      "Inicio: 2025-05-24 15:20:04-05:00, Fin: 2025-05-26 05:20:13-05:00\n"
     ]
    }
   ],
   "source": [
    "# Rango temporal del dataset\n",
    "def normalize_timezone(fechas, tz=\"America/Guayaquil\"):\n",
    "    fechas_normalizadas= pd.to_datetime(fechas).dt.tz_convert(tz)\n",
    "    return pd.Series(fechas_normalizadas)\n",
    "    \n",
    "    \n",
    "\n",
    "def get_rango_temporal(fechas):\n",
    "    rango_max=fechas.max()\n",
    "    rango_min=fechas.min()\n",
    "    print(rango_max)\n",
    "    print(f\"El rango temporal del dataset es: \\nInicio: {rango_min}, Fin: {rango_max}\")\n",
    "    \n",
    "fechas_normalize=normalize_timezone(dataframe[\"fecha_carga\"])\n",
    "\n",
    "get_rango_temporal(fechas_normalize)"
   ]
  },
  {
   "cell_type": "markdown",
   "metadata": {},
   "source": [
    "**- Obtención del número de estaciones que tienen un sensor para medir monóxido de carbono**\n",
    "\n",
    "Se analiza `objectid`y `nombre` para identificar el campo que se puede utilizar para trabajar por estaciones:"
   ]
  },
  {
   "cell_type": "code",
   "execution_count": 27,
   "metadata": {},
   "outputs": [
    {
     "data": {
      "text/plain": [
       "3"
      ]
     },
     "execution_count": 27,
     "metadata": {},
     "output_type": "execute_result"
    }
   ],
   "source": [
    "\"\"\"display(dataframe[[\"nombre\", \"objectid\"]].describe(include=\"all\"))\n",
    "\n",
    "def get_stations(names):\n",
    "    stations=set(names)\n",
    "    print(f\"Existe un total de {len(stations)} estaciones\")\n",
    "    return stations\n",
    "\n",
    "get_stations(dataframe[\"nombre\"])\n",
    "\n",
    "dataframe[\"nombre\"].unique()\n",
    "\"\"\"\n",
    "\n",
    "co_stations=dataframe[dataframe[\"co\"].isna()==False][[\"objectid\", \"nombre\",\"co\"]]\n",
    "\n",
    "len(co_stations[\"nombre\"].unique())"
   ]
  },
  {
   "cell_type": "markdown",
   "metadata": {},
   "source": [
    "## 03\n",
    "\n",
    "- Número de estación con la media más alta de mediciones de monóxido de carbono"
   ]
  },
  {
   "cell_type": "code",
   "execution_count": 47,
   "metadata": {},
   "outputs": [
    {
     "data": {
      "text/html": [
       "<div>\n",
       "<style scoped>\n",
       "    .dataframe tbody tr th:only-of-type {\n",
       "        vertical-align: middle;\n",
       "    }\n",
       "\n",
       "    .dataframe tbody tr th {\n",
       "        vertical-align: top;\n",
       "    }\n",
       "\n",
       "    .dataframe thead th {\n",
       "        text-align: right;\n",
       "    }\n",
       "</style>\n",
       "<table border=\"1\" class=\"dataframe\">\n",
       "  <thead>\n",
       "    <tr style=\"text-align: right;\">\n",
       "      <th></th>\n",
       "      <th>objectid</th>\n",
       "      <th>co</th>\n",
       "    </tr>\n",
       "    <tr>\n",
       "      <th>nombre</th>\n",
       "      <th></th>\n",
       "      <th></th>\n",
       "    </tr>\n",
       "  </thead>\n",
       "  <tbody>\n",
       "    <tr>\n",
       "      <th>Francia</th>\n",
       "      <td>23.0</td>\n",
       "      <td>0.1</td>\n",
       "    </tr>\n",
       "    <tr>\n",
       "      <th>Molí del Sol</th>\n",
       "      <td>25.0</td>\n",
       "      <td>0.3</td>\n",
       "    </tr>\n",
       "    <tr>\n",
       "      <th>Pista de Silla</th>\n",
       "      <td>26.0</td>\n",
       "      <td>0.7</td>\n",
       "    </tr>\n",
       "  </tbody>\n",
       "</table>\n",
       "</div>"
      ],
      "text/plain": [
       "                objectid   co\n",
       "nombre                       \n",
       "Francia             23.0  0.1\n",
       "Molí del Sol        25.0  0.3\n",
       "Pista de Silla      26.0  0.7"
      ]
     },
     "metadata": {},
     "output_type": "display_data"
    },
    {
     "name": "stdout",
     "output_type": "stream",
     "text": [
      "La estación con la media más alta en mediciones de monóxido de carbono es:\n"
     ]
    },
    {
     "data": {
      "text/plain": [
       "'Pista de Silla'"
      ]
     },
     "metadata": {},
     "output_type": "display_data"
    }
   ],
   "source": [
    "# Your solution here...\n",
    "co_station_means=co_stations.groupby(\"nombre\").mean(numeric_only=True)\n",
    "display(co_station_means)\n",
    "\n",
    "print(f\"La estación con la media más alta en mediciones de monóxido de carbono es:\")\n",
    "display(co_station_means[\"co\"].idxmax())\n"
   ]
  },
  {
   "cell_type": "markdown",
   "metadata": {},
   "source": [
    "## 04\n",
    "Realizar el histograma de dióxido de nitrógeno de la estación del punto anterior"
   ]
  },
  {
   "cell_type": "code",
   "execution_count": 71,
   "metadata": {},
   "outputs": [
    {
     "data": {
      "text/plain": [
       "<Axes: xlabel='no2', ylabel='Count'>"
      ]
     },
     "execution_count": 71,
     "metadata": {},
     "output_type": "execute_result"
    },
    {
     "data": {
      "image/png": "[encoded data removed]",
      "text/plain": [
       "<Figure size 640x480 with 1 Axes>"
      ]
     },
     "metadata": {},
     "output_type": "display_data"
    }
   ],
   "source": [
    "# Your solution here...\n",
    "#no2_data=dataframe[dataframe[\"nombre\"]=='Pista de Silla'][[\"objectid\",\"nombre\",\"no2\", \"fecha_carga\"]]\n",
    "\n",
    "#sns.histplot(data=no2_data, x=\"no2\")\n",
    "\n",
    "sns.histplot(data=dataframe[dataframe[\"nombre\"]==\"Pista de Silla\"], x=\"no2\")"
   ]
  },
  {
   "cell_type": "markdown",
   "metadata": {},
   "source": [
    "## 05\n",
    "Realizar gráfica con  la línea temporal de las mediciones de ozono de la estación del punto anterior. Pista, la columna 'fecha_carga' habría que cambiarla de tipo."
   ]
  },
  {
   "cell_type": "code",
   "execution_count": 85,
   "metadata": {},
   "outputs": [
    {
     "data": {
      "image/png": "[encoded data removed]",
      "text/plain": [
       "<Figure size 640x480 with 1 Axes>"
      ]
     },
     "metadata": {},
     "output_type": "display_data"
    }
   ],
   "source": [
    "# Your solution here...\n",
    "dataframe[\"fecha_carga\"]=fechas_normalize\n",
    "fig, axes= plt.subplots()\n",
    "axes.set_xlabel(\"Datetime\")\n",
    "color=sns.color_palette()\n",
    "sns.lineplot(data=dataframe[dataframe[\"nombre\"]==\"Pista de Silla\"], \n",
    "             x=\"fecha_carga\", \n",
    "             y=\"o3\", \n",
    "             ax=axes,\n",
    "             palette=\"pastel\", hue=\"o3\")\n",
    "plt.tight_layout()\n",
    "plt.xticks(rotation=45)\n",
    "plt.show()"
   ]
  },
  {
   "cell_type": "code",
   "execution_count": null,
   "metadata": {},
   "outputs": [],
   "source": []
  }
 ],
 "metadata": {
  "kernelspec": {
   "display_name": "Python 3 (ipykernel)",
   "language": "python",
   "name": "python3"
  },
  "language_info": {
   "codemirror_mode": {
    "name": "ipython",
    "version": 3
   },
   "file_extension": ".py",
   "mimetype": "text/x-python",
   "name": "python",
   "nbconvert_exporter": "python",
   "pygments_lexer": "ipython3",
   "version": "3.12.9"
  }
 },
 "nbformat": 4,
 "nbformat_minor": 4
}
